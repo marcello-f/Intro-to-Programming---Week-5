{
 "cells": [
  {
   "cell_type": "markdown",
   "metadata": {},
   "source": [
    "### Exercise 1: Translating mathematical statements into Python code"
   ]
  },
  {
   "cell_type": "markdown",
   "metadata": {},
   "source": [
    "You will recall that the statement \"A implies B\" is equivalent to \"B or not A\". In Python you can write a function `implies(A,B)` which computes the truth of \"A implies B\" as follows:\n",
    "```python\n",
    "def implies(A,B):\n",
    "    \"returns the truth of 'A implies B'\"\n",
    "    return B or not A\n",
    "```"
   ]
  },
  {
   "cell_type": "markdown",
   "metadata": {},
   "source": [
    "#### Exercise 1.a: Test that this Python function works by evaluating it for all four possible inputs."
   ]
  },
  {
   "cell_type": "code",
   "execution_count": 23,
   "metadata": {},
   "outputs": [
    {
     "name": "stdout",
     "output_type": "stream",
     "text": [
      "True\n",
      "False\n",
      "True\n",
      "True\n"
     ]
    }
   ],
   "source": [
    "def implies(A,B):\n",
    "    return B or not A\n",
    "\n",
    "print(implies(True,True))\n",
    "print(implies(True,False))\n",
    "print(implies(False,False))\n",
    "print(implies(False,True))"
   ]
  },
  {
   "cell_type": "markdown",
   "metadata": {},
   "source": [
    "#### Exercise 1.b.: Write a function `not_implies(A,B)` for the negation of \"A implies B\" which computes the truth of \"not (A implies B)\" and evaluate it for all four possible inputs."
   ]
  },
  {
   "cell_type": "code",
   "execution_count": 24,
   "metadata": {},
   "outputs": [
    {
     "name": "stdout",
     "output_type": "stream",
     "text": [
      "False\n",
      "True\n",
      "False\n",
      "False\n"
     ]
    }
   ],
   "source": [
    "def not_implies(A,B):\n",
    "    return not(B or not A)\n",
    "\n",
    "print(not_implies(True,True))\n",
    "print(not_implies(True,False))\n",
    "print(not_implies(False,False))\n",
    "print(not_implies(False,True))"
   ]
  },
  {
   "cell_type": "markdown",
   "metadata": {},
   "source": [
    "We say that an integer $a$ divides an integer $m$, and write $a|m$, if $m=ka$ for some integer $k$. In Python you can write a function `divides(a,m)` which computes the truth of `a divides m` for integer `a` and `m` as follows:\n",
    "```python\n",
    "def divides(a,m):\n",
    "    \"returns the truth of 'a divides m'\"\n",
    "    return(m%a==0)\n",
    "```"
   ]
  },
  {
   "cell_type": "markdown",
   "metadata": {},
   "source": [
    "#### Exercise 1.c: Test that this Python function works by evaluating it for four well-chosen inputs."
   ]
  },
  {
   "cell_type": "code",
   "execution_count": 25,
   "metadata": {},
   "outputs": [
    {
     "name": "stdout",
     "output_type": "stream",
     "text": [
      "True\n",
      "False\n",
      "True\n",
      "False\n"
     ]
    }
   ],
   "source": [
    "def divides(a,m):\n",
    "    return(m%a==0)\n",
    "\n",
    "print(divides(3,9))\n",
    "print(divides(9,3))\n",
    "print(divides(1,2))\n",
    "print(divides(2,1))"
   ]
  },
  {
   "cell_type": "markdown",
   "metadata": {},
   "source": [
    "Last year, you will have encountered the following fact about integer division:\n",
    "\n",
    "**Theorem:** Let $a,b,m,n\\in\\mathbb Z$. If $a|m$ and $b|n$ then $ab|mn$. \n",
    "\n",
    "According to this theorem\n",
    "\n",
    "    if 7 divides 14 and 2 divides 4 then 14 divides 56  \n",
    "is a true statement, and\n",
    "\n",
    "    if 7 divides 14 and 2 divides 3 then 14 divides 42 \n",
    "is also a true statement (why?)."
   ]
  },
  {
   "cell_type": "markdown",
   "metadata": {},
   "source": [
    "The theorem says 14 divides 42 IF 2 divides 3, which it does not. Therefore, the statement is true whether 14 divides 42 or not, since the theorem does not state that IF 2 does not divide 3 then 14 does not divide 42."
   ]
  },
  {
   "cell_type": "markdown",
   "metadata": {},
   "source": [
    "#### Exercise 1.d: Using `implies()` and `divides()` defined above, write a function `test_theorem(a,b,m,n)` which tests the truth of this Theorem. Evaluate this function by evaluating it for four well-chosen examples."
   ]
  },
  {
   "cell_type": "code",
   "execution_count": 70,
   "metadata": {
    "scrolled": true
   },
   "outputs": [
    {
     "name": "stdout",
     "output_type": "stream",
     "text": [
      "True\n",
      "True\n",
      "True\n",
      "True\n"
     ]
    }
   ],
   "source": [
    "def test_theorem(a,b,m,n):\n",
    "    return implies(divides(a,m) and divides(b,n), divides(a*b,m*n))\n",
    "\n",
    "print(test_theorem(7,14,2,4))\n",
    "print(test_theorem(7,14,2,3))\n",
    "print(test_theorem(5,10,3,9))\n",
    "print(test_theorem(12,24,15,30))"
   ]
  },
  {
   "cell_type": "markdown",
   "metadata": {},
   "source": [
    "Now consider the following claim, which is different from the theorem above:\n",
    "\n",
    "**Claim:** Let $a,b,n\\in\\mathbb Z$. If $a|n$ and $b|n$ then $ab|n$."
   ]
  },
  {
   "cell_type": "markdown",
   "metadata": {},
   "source": [
    "#### Exercise 1.e: Write a function `test_theorem2(a,b,n)` which tests the truth of this claim. Find input values that result in the function producing the output `False`, and hence disprove the statement."
   ]
  },
  {
   "cell_type": "code",
   "execution_count": 71,
   "metadata": {},
   "outputs": [
    {
     "name": "stdout",
     "output_type": "stream",
     "text": [
      "True\n",
      "False\n"
     ]
    }
   ],
   "source": [
    "def test_theorem2(a,b,n):\n",
    "    return implies(divides(a,n) and divides(b,n), divides(a*b,n))\n",
    "\n",
    "print(test_theorem2(3,4,12))\n",
    "print(test_theorem2(3,12,12))"
   ]
  },
  {
   "cell_type": "markdown",
   "metadata": {},
   "source": [
    "### Exercise 2: Roots of a cubic polynomial"
   ]
  },
  {
   "cell_type": "markdown",
   "metadata": {},
   "source": [
    "The discriminant of a cubic polynomial $p(x)=ax^3+bx^2+cx+d$ is\n",
    "$$\\Delta=b^2c^2-4ac^3-4b^3d-27a^2d^2+18abcd\\;.$$\n",
    "The discriminant gives us information about the roots of the polynomial $p(x)$:\n",
    "\n",
    "- if $\\Delta>0$, then $p(x)$ has 3 distinct real roots,\n",
    "- if $\\Delta<0$, then $p(x)$ has 2 distinct complex roots and 1 real root,\n",
    "- if $\\Delta=0$, then $p(x)$ has at least 2 (real or complex) roots which are the same.\n"
   ]
  },
  {
   "cell_type": "markdown",
   "metadata": {},
   "source": [
    "Represent a cubic polynomial $p(x)=ax^3+bx^2+cx+d$ by the coefficients `a,b,c,d` of numbers. For example, the polynomial $p(x)=x^3-x+1$ is represented as `1,0,-1,1`."
   ]
  },
  {
   "cell_type": "markdown",
   "metadata": {},
   "source": [
    "#### Exercise 2.a: Write a function called `has_three_real_roots()` which takes as input the four coefficients of a cubic polynomial in decreasing order, and returns `True` if $p(x)$ has 3 real distinct roots and `False` otherwise. "
   ]
  },
  {
   "cell_type": "code",
   "execution_count": 72,
   "metadata": {},
   "outputs": [],
   "source": [
    "def has_three_real_roots(a,b,c,d):\n",
    "    delta = (b**2*c**2)-(4*a*c**3)-(4*b**3*d)-(27*a**2*d**2)+(18*a*b*c*d)\n",
    "    return delta > 0\n",
    "#    if delta > 0:\n",
    "#        return True\n",
    "#    else:\n",
    " #       return False"
   ]
  },
  {
   "cell_type": "markdown",
   "metadata": {},
   "source": [
    "#### Exercise 2.b.: Test this function on the polynomials $x^3$, $x(1-x)^2$, $x^3-x+1$ and $x^3-x$. "
   ]
  },
  {
   "cell_type": "code",
   "execution_count": 73,
   "metadata": {},
   "outputs": [
    {
     "name": "stdout",
     "output_type": "stream",
     "text": [
      "False\n",
      "False\n",
      "False\n",
      "True\n"
     ]
    }
   ],
   "source": [
    "print(has_three_real_roots(1,0,0,0))\n",
    "print(has_three_real_roots(1,-2,1,0))\n",
    "print(has_three_real_roots(1,0,-1,1))\n",
    "print(has_three_real_roots(1,0,-1,0))"
   ]
  },
  {
   "cell_type": "markdown",
   "metadata": {},
   "source": [
    "### Exercise 3: Recursive Functions"
   ]
  },
  {
   "cell_type": "markdown",
   "metadata": {},
   "source": [
    "In the lecture you encountered the recursive definition of binomial coefficients $\\binom nk$.\n",
    "Of course you know also that these are just the coefficients in the expansion of $(1+x)^n$, i.e.\n",
    "$$(1+x)^n=\\sum_{k=0}^n\\binom nkx^k.$$\n",
    "This approach allows us to define $\\binom nk=0$ whenever $k<0$ or $k>n$ and leads to a slightly different\n",
    "implementation of `binom(n,k)` from the one given in the lecture."
   ]
  },
  {
   "cell_type": "code",
   "execution_count": 30,
   "metadata": {},
   "outputs": [
    {
     "data": {
      "text/plain": [
       "[[1],\n",
       " [1, 1],\n",
       " [1, 2, 1],\n",
       " [1, 3, 3, 1],\n",
       " [1, 4, 6, 4, 1],\n",
       " [1, 5, 10, 10, 5, 1],\n",
       " [1, 6, 15, 20, 15, 6, 1],\n",
       " [1, 7, 21, 35, 35, 21, 7, 1]]"
      ]
     },
     "execution_count": 30,
     "metadata": {},
     "output_type": "execute_result"
    }
   ],
   "source": [
    "def binom(n,k):\n",
    "    if k<0 or k>n:\n",
    "        b=0\n",
    "    elif n==0:\n",
    "        b=1\n",
    "    else:\n",
    "        b=binom(n-1,k-1)+binom(n-1,k)\n",
    "    return b\n",
    "\n",
    "[[binom(n,k) for k in range(n+1)] for n in range(8)]"
   ]
  },
  {
   "cell_type": "markdown",
   "metadata": {},
   "source": [
    "\n",
    "Similarly, the **trinomial coefficients** $\\binom nk_2$ are defined by the coefficients in the expansion of $(1+x+x^2)^n$, i.e.\n",
    "$$(1+x+x^2)^n=\\sum_{k=-n}^{n}\\binom nk_2x^{n+k}.$$\n",
    "They satisfy a recursion similar to the one of binomial coefficients,\n",
    "$$\\binom nk_2=\\binom{n-1}{k-1}_2+\\binom{n-1}k_2+\\binom{n-1}{k+1}_2.$$"
   ]
  },
  {
   "cell_type": "markdown",
   "metadata": {},
   "source": [
    "#### Exercise 3.a.: Write a Python function `trinom(n,k)` that computes the trinomial coefficients $\\binom nk_2$. (Note that you still need to determine the correct conditions at the boundary for the recurrence: for example, what happens if k is too small or too large?)"
   ]
  },
  {
   "cell_type": "code",
   "execution_count": 63,
   "metadata": {},
   "outputs": [],
   "source": [
    "def trinom(n,k):\n",
    "    if k<-n or k>n:\n",
    "        b=0\n",
    "    elif n==0:\n",
    "        b=1\n",
    "    else:\n",
    "        b=trinom(n-1,k-1)+trinom(n-1,k)+trinom(n-1,k+1)\n",
    "    return b"
   ]
  },
  {
   "cell_type": "markdown",
   "metadata": {},
   "source": [
    "#### Exercise 3.b.: Using `trinom(n,k)`, compute the first eight rows of the trinomial triangle defined in analogy to Pascal's triangle."
   ]
  },
  {
   "cell_type": "code",
   "execution_count": 74,
   "metadata": {
    "scrolled": true
   },
   "outputs": [
    {
     "data": {
      "text/plain": [
       "[[1],\n",
       " [1, 1, 1],\n",
       " [1, 2, 3, 2, 1],\n",
       " [1, 3, 6, 7, 6, 3, 1],\n",
       " [1, 4, 10, 16, 19, 16, 10, 4, 1],\n",
       " [1, 5, 15, 30, 45, 51, 45, 30, 15, 5, 1],\n",
       " [1, 6, 21, 50, 90, 126, 141, 126, 90, 50, 21, 6, 1],\n",
       " [1, 7, 28, 77, 161, 266, 357, 393, 357, 266, 161, 77, 28, 7, 1]]"
      ]
     },
     "execution_count": 74,
     "metadata": {},
     "output_type": "execute_result"
    }
   ],
   "source": [
    "[[trinom(n,k) for k in range(-n,n+1)] for n in range(8)]"
   ]
  },
  {
   "cell_type": "markdown",
   "metadata": {},
   "source": [
    "## Submit your Jupyter Notebook to QMPLUS"
   ]
  },
  {
   "cell_type": "markdown",
   "metadata": {},
   "source": [
    "Once you are done, save the jupyter notebook and submit it to QMPLUS under Lab Report Week 5."
   ]
  }
 ],
 "metadata": {
  "kernelspec": {
   "display_name": "Python 3",
   "language": "python",
   "name": "python3"
  },
  "language_info": {
   "codemirror_mode": {
    "name": "ipython",
    "version": 3
   },
   "file_extension": ".py",
   "mimetype": "text/x-python",
   "name": "python",
   "nbconvert_exporter": "python",
   "pygments_lexer": "ipython3",
   "version": "3.8.5"
  }
 },
 "nbformat": 4,
 "nbformat_minor": 2
}
